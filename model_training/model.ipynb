{
 "cells": [
  {
   "cell_type": "code",
   "execution_count": 1,
   "metadata": {},
   "outputs": [],
   "source": [
    "import torch\n",
    "import torch.nn as nn\n",
    "import torch.nn.functional as F\n",
    "import numpy as np\n",
    "import matplotlib.pyplot as plt\n",
    "import pickle\n",
    "import pandas as pd\n",
    "from sklearn.preprocessing import LabelEncoder \n",
    "from torch.utils.data import TensorDataset\n",
    "from torch.utils.data import DataLoader"
   ]
  },
  {
   "cell_type": "code",
   "execution_count": 21,
   "metadata": {},
   "outputs": [],
   "source": [
    "class AML(nn.Module):\n",
    "    def __init__(self,D_in, D_out):\n",
    "        super(AML, self).__init__()\n",
    "        self.l1=nn.Linear(D_in,20)\n",
    "        self.l2=nn.Linear(20,D_out)\n",
    "        self.sig=nn.Sigmoid()\n",
    "        \n",
    "    def forward(self, x):\n",
    "        x=self.l1(x)\n",
    "        x=F.relu(x)\n",
    "        x=self.l2(x)\n",
    "        x=self.sig(x)\n",
    "        return x"
   ]
  },
  {
   "cell_type": "code",
   "execution_count": 36,
   "metadata": {},
   "outputs": [
    {
     "data": {
      "text/plain": [
       "tensor([0.4817, 0.4149], grad_fn=<SigmoidBackward>)"
      ]
     },
     "execution_count": 36,
     "metadata": {},
     "output_type": "execute_result"
    }
   ],
   "source": [
    "model=AML(9,2)\n",
    "a=torch.ones(9)\n",
    "model(a)"
   ]
  },
  {
   "cell_type": "code",
   "execution_count": 37,
   "metadata": {},
   "outputs": [],
   "source": [
    "df=pd.read_csv('data/full_ml_dataset.csv')\n",
    "enc = LabelEncoder()\n",
    "enc.fit(df.type.values)\n",
    "df.type=enc.transform(df.type)\n",
    "df.nameDest=df.nameDest.apply(lambda x: hash(x))\n",
    "df.nameOrig=df.nameOrig.apply(lambda x: hash(x))\n",
    "y=torch.Tensor(df.isFraud.values)\n",
    "X=torch.Tensor(df.iloc[:,0:9].values)"
   ]
  },
  {
   "cell_type": "code",
   "execution_count": null,
   "metadata": {},
   "outputs": [],
   "source": [
    "criterion = nn.CrossEntropyLoss()\n",
    "optimizer = torch.optim.SGD(model.parameters(), lr=1e-4, momentum=0.9)\n",
    "loader = TensorDataset(X, y)\n",
    "data=DataLoader(loader, batch_size=128, shuffle=True)\n",
    "for t in range(2):\n",
    "    for X, y in data:\n",
    "        y_pred = model(X)\n",
    "        print(y.dtype, y_pred.dtype)\n",
    "        loss = criterion(y_pred, y.long())\n",
    "        print(loss)\n",
    "        optimizer.zero_grad()\n",
    "        loss.backward()\n",
    "        optimizer.step()"
   ]
  }
 ],
 "metadata": {
  "kernelspec": {
   "display_name": "Python 3",
   "language": "python",
   "name": "python3"
  },
  "language_info": {
   "codemirror_mode": {
    "name": "ipython",
    "version": 3
   },
   "file_extension": ".py",
   "mimetype": "text/x-python",
   "name": "python",
   "nbconvert_exporter": "python",
   "pygments_lexer": "ipython3",
   "version": "3.7.0"
  }
 },
 "nbformat": 4,
 "nbformat_minor": 2
}
