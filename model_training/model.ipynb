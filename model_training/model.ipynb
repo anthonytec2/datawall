{
 "cells": [
  {
   "cell_type": "code",
   "execution_count": 6,
   "metadata": {},
   "outputs": [],
   "source": [
    "import torch\n",
    "import torch.nn as nn\n",
    "import torch.nn.functional as F\n",
    "import numpy as np\n",
    "import matplotlib.pyplot as plt\n",
    "import pickle\n",
    "import pandas as pd\n",
    "from sklearn.preprocessing import LabelEncoder\n",
    "from torch.utils.data import TensorDataset\n",
    "from torch.utils.data import DataLoader\n",
    "from torch.utils.data import random_split\n",
    "\n",
    "from tensorboardX import SummaryWriter\n",
    "from tqdm import tqdm\n",
    "from sklearn.model_selection import train_test_split\n",
    "from sklearn.metrics import confusion_matrix\n",
    "import itertools\n",
    "import time\n",
    "import os"
   ]
  },
  {
   "cell_type": "code",
   "execution_count": 7,
   "metadata": {},
   "outputs": [],
   "source": [
    "class AML(nn.Module):\n",
    "    def __init__(self,D_in, D_out):\n",
    "        super(AML, self).__init__()\n",
    "        self.l1=nn.Linear(D_in,20)\n",
    "        self.l2=nn.Linear(20,D_out)\n",
    "        self.sig=nn.Sigmoid()\n",
    "        \n",
    "    def forward(self, x):\n",
    "        x=self.l1(x)\n",
    "        x=F.relu(x)\n",
    "        x=self.l2(x)\n",
    "        x=self.sig(x)\n",
    "        return x\n",
    "if torch.cuda.is_available():\n",
    "    device = torch.device('cuda')\n",
    "else:\n",
    "    device = torch.device('cpu')"
   ]
  },
  {
   "cell_type": "code",
   "execution_count": 8,
   "metadata": {},
   "outputs": [
    {
     "data": {
      "text/plain": [
       "tensor([0.4587, 0.5507], grad_fn=<SigmoidBackward>)"
      ]
     },
     "execution_count": 8,
     "metadata": {},
     "output_type": "execute_result"
    }
   ],
   "source": [
    "model=AML(9,2)\n",
    "a=torch.ones(9)\n",
    "model(a)"
   ]
  },
  {
   "cell_type": "code",
   "execution_count": 10,
   "metadata": {},
   "outputs": [],
   "source": [
    "load_data = torch.load('../data.pt')\n",
    "X = load_data[\"X\"]\n",
    "y = load_data[\"y\"]\n",
    "criterion = nn.BCELoss()\n",
    "optimizer = torch.optim.Adam(model.parameters(), lr=1e-4)\n",
    "X_train, X_test, y_train, y_test = train_test_split(\n",
    "    X, y, test_size=0.15, random_state=42)\n",
    "X_test = torch.Tensor(X_test)\n",
    "y_test = torch.Tensor(y_test)\n",
    "loader = TensorDataset(torch.Tensor(X_train).to(device), torch.Tensor(y_train).to(device))\n",
    "data = DataLoader(loader, batch_size=128, shuffle=True)\n",
    "model=model.to(device)"
   ]
  },
  {
   "cell_type": "code",
   "execution_count": 13,
   "metadata": {},
   "outputs": [],
   "source": [
    "criterion = nn.CrossEntropyLoss()\n",
    "optimizer = torch.optim.SGD(model.parameters(), lr=1e-4, momentum=0.9)\n",
    "loader = TensorDataset(X, y)\n",
    "x=X_test[0:127].to(device)\n",
    "y=y_test[0:127].to(device)\n",
    "lr=np.linspace(1e-8,10,1e6)\n",
    "loss=[]\n",
    "for i in lr:\n",
    "    y_pred = model(x)\n",
    "    loss = criterion(y_pred, y.long())\n",
    "    loss.append((i,))"
   ]
  },
  {
   "cell_type": "code",
   "execution_count": null,
   "metadata": {},
   "outputs": [],
   "source": [
    "criterion = nn.CrossEntropyLoss()\n",
    "optimizer = torch.optim.SGD(model.parameters(), lr=1e-4, momentum=0.9)\n",
    "loader = TensorDataset(X, y)\n",
    "data=DataLoader(loader, batch_size=128, shuffle=True)\n",
    "for t in range(2):\n",
    "    for X, y in data:\n",
    "        y_pred = model(X)\n",
    "        print(y.dtype, y_pred.dtype)\n",
    "        loss = criterion(y_pred, y.long())\n",
    "        print(loss)\n",
    "        optimizer.zero_grad()\n",
    "        loss.backward()\n",
    "        optimizer.step()"
   ]
  }
 ],
 "metadata": {
  "kernelspec": {
   "display_name": "Python 3",
   "language": "python",
   "name": "python3"
  },
  "language_info": {
   "codemirror_mode": {
    "name": "ipython",
    "version": 3
   },
   "file_extension": ".py",
   "mimetype": "text/x-python",
   "name": "python",
   "nbconvert_exporter": "python",
   "pygments_lexer": "ipython3",
   "version": "3.6.6"
  }
 },
 "nbformat": 4,
 "nbformat_minor": 2
}
