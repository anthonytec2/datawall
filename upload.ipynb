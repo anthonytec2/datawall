{
 "cells": [
  {
   "cell_type": "code",
   "execution_count": 1,
   "metadata": {},
   "outputs": [],
   "source": [
    "from google.cloud import datastore\n",
    "import pandas as pd\n",
    "\n",
    "LOCAL_FNAME = \"data/data.csv\"\n",
    "ENTITY_KIND = \"bank\"\n",
    "KEY_FNAME = \"key.json\""
   ]
  },
  {
   "cell_type": "code",
   "execution_count": 2,
   "metadata": {},
   "outputs": [],
   "source": [
    "def create_client(key_file):\n",
    "    return datastore.Client.from_service_account_json(key_file)"
   ]
  },
  {
   "cell_type": "code",
   "execution_count": 3,
   "metadata": {},
   "outputs": [],
   "source": [
    "client = create_client(KEY_FNAME)"
   ]
  },
  {
   "cell_type": "code",
   "execution_count": 4,
   "metadata": {},
   "outputs": [
    {
     "name": "stdout",
     "output_type": "stream",
     "text": [
      "<google.cloud.datastore.client.Client object at 0x7fb753a55e10>\n"
     ]
    }
   ],
   "source": [
    "print client"
   ]
  },
  {
   "cell_type": "code",
   "execution_count": 5,
   "metadata": {},
   "outputs": [],
   "source": [
    "'''\n",
    "add one entity to GCP\n",
    "'''\n",
    "def add_entity(client, entity_kind, sample):\n",
    "    key = client.key(entity_kind)\n",
    "\n",
    "    new_entity = datastore.Entity(key)\n",
    "\n",
    "    new_entity.update(sample)\n",
    "\n",
    "    client.put(new_entity)\n",
    "\n",
    "    return new_entity.key\n",
    "\n",
    "'''\n",
    "read data from local file and transform into json format\n",
    "'''\n",
    "def load_local(fname):\n",
    "    data = pd.read_csv(fname)\n",
    "    return data\n",
    "\n",
    "def transform_upload_data(data):\n",
    "    properties = list(data.columns)\n",
    "    json_list = []\n",
    "    num_samples = data.shape[0]\n",
    "    for i in range(num_samples):\n",
    "        if i > 20:\n",
    "            break\n",
    "        if i % 10 == 0:\n",
    "            print \"processed %d of %d\"%(i+1, num_samples)\n",
    "        json_dict = {properties[j]:data.iloc[i, j] for j in range(len(properties))}\n",
    "        entity_key = add_entity(client, ENTITY_KIND, json_dict)"
   ]
  },
  {
   "cell_type": "code",
   "execution_count": 6,
   "metadata": {},
   "outputs": [],
   "source": [
    "data = load_local(LOCAL_FNAME)"
   ]
  },
  {
   "cell_type": "code",
   "execution_count": 7,
   "metadata": {},
   "outputs": [
    {
     "name": "stdout",
     "output_type": "stream",
     "text": [
      "processed 1 of 6362620\n",
      "processed 11 of 6362620\n",
      "processed 21 of 6362620\n"
     ]
    }
   ],
   "source": [
    "transform_upload_data(data)"
   ]
  },
  {
   "cell_type": "code",
   "execution_count": 16,
   "metadata": {},
   "outputs": [],
   "source": [
    "def list_banks(client):\n",
    "    query = client.query(kind='bank')\n",
    "    query.order = ['amount']\n",
    "    return list(query.fetch())"
   ]
  },
  {
   "cell_type": "code",
   "execution_count": 17,
   "metadata": {},
   "outputs": [],
   "source": [
    "a = list_banks(client)"
   ]
  }
 ],
 "metadata": {
  "kernelspec": {
   "display_name": "Python 2",
   "language": "python",
   "name": "python2"
  },
  "language_info": {
   "codemirror_mode": {
    "name": "ipython",
    "version": 2
   },
   "file_extension": ".py",
   "mimetype": "text/x-python",
   "name": "python",
   "nbconvert_exporter": "python",
   "pygments_lexer": "ipython2",
   "version": "2.7.15rc1"
  }
 },
 "nbformat": 4,
 "nbformat_minor": 2
}
